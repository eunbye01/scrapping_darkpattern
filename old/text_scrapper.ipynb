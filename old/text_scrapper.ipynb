{
 "cells": [
  {
   "cell_type": "code",
   "execution_count": 1,
   "id": "8f4b3063-3aaa-4ae6-a108-8bf440420228",
   "metadata": {},
   "outputs": [],
   "source": [
    "from bs4 import BeautifulSoup\n",
    "from urllib.request import Request, urlopen"
   ]
  },
  {
   "cell_type": "code",
   "execution_count": null,
   "id": "178e485d-bfa5-46bc-b546-179d6ac69fb3",
   "metadata": {
    "scrolled": true
   },
   "outputs": [],
   "source": [
    "# url 입력은 추후에 엑셀에서 입력 받는 것으로 수정해야 함\n",
    "url = ''\n",
    "html = urlopen(url)"
   ]
  },
  {
   "cell_type": "code",
   "execution_count": null,
   "id": "f08336cc-32a6-4e47-8523-e80a51d34260",
   "metadata": {},
   "outputs": [],
   "source": [
    "bs_obj = BeautifulSoup(html, \"html.parser\")"
   ]
  },
  {
   "cell_type": "code",
   "execution_count": null,
   "id": "9a9c1b66-bc16-4c99-aed2-6e3f954d1339",
   "metadata": {},
   "outputs": [],
   "source": [
    "print(bs_obj)"
   ]
  },
  {
   "cell_type": "markdown",
   "id": "2efee4a1-9c9d-43fd-b11a-b36416bf0754",
   "metadata": {},
   "source": [
    "## 특정 키워드를 포함하는 요소 찾기"
   ]
  },
  {
   "cell_type": "code",
   "execution_count": 24,
   "id": "5dab9a56-652f-4bd3-8086-d2cd80e0ba49",
   "metadata": {},
   "outputs": [],
   "source": [
    "keyword = '' # 찾을 키워드\n",
    "keyword_element = bs_obj.find(string=lambda text: keyword in text if text else False)"
   ]
  },
  {
   "cell_type": "code",
   "execution_count": null,
   "id": "0e7dda25-c837-42a4-9f4d-915d2f1edac2",
   "metadata": {
    "scrolled": true
   },
   "outputs": [],
   "source": [
    "print(keyword_element)"
   ]
  },
  {
   "cell_type": "code",
   "execution_count": null,
   "id": "17602f86-b626-42bc-b919-eda19a54a23b",
   "metadata": {},
   "outputs": [],
   "source": [
    "if keyword_element:\n",
    "    # 부모 요소를 순차적으로 올라가면서 세 번째 div를 찾기\n",
    "    current_element = keyword_element.parent\n",
    "    div_count = 0\n",
    "\n",
    "    while current_element and div_count < 4:\n",
    "        if current_element.name == 'div':\n",
    "            div_count += 1\n",
    "        current_element = current_element.parent\n",
    "\n",
    "    if current_element:\n",
    "        print(current_element.prettify())\n",
    "        class_name = current_element.get('class')\n",
    "    else:\n",
    "        print(\"없음\");\n",
    "else:\n",
    "    print(f\"`{keyword}`를 포함한 요소를 찾을 수 없음\")"
   ]
  },
  {
   "cell_type": "code",
   "execution_count": null,
   "id": "c4235e22-3e39-40bc-b277-f49e581b36c7",
   "metadata": {},
   "outputs": [],
   "source": []
  },
  {
   "cell_type": "code",
   "execution_count": null,
   "id": "c3259516-c44f-44bb-9853-20010f93a400",
   "metadata": {},
   "outputs": [],
   "source": []
  }
 ],
 "metadata": {
  "kernelspec": {
   "display_name": "Python 3 (ipykernel)",
   "language": "python",
   "name": "python3"
  },
  "language_info": {
   "codemirror_mode": {
    "name": "ipython",
    "version": 3
   },
   "file_extension": ".py",
   "mimetype": "text/x-python",
   "name": "python",
   "nbconvert_exporter": "python",
   "pygments_lexer": "ipython3",
   "version": "3.11.7"
  }
 },
 "nbformat": 4,
 "nbformat_minor": 5
}
