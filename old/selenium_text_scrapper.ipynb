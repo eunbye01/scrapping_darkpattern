{
 "cells": [
  {
   "cell_type": "code",
   "execution_count": 1,
   "id": "AARhZm-9IFr_",
   "metadata": {
    "colab": {
     "base_uri": "https://localhost:8080/"
    },
    "executionInfo": {
     "elapsed": 17779,
     "status": "ok",
     "timestamp": 1728990882459,
     "user": {
      "displayName": "박선하",
      "userId": "02165607855824253665"
     },
     "user_tz": -540
    },
    "id": "AARhZm-9IFr_",
    "outputId": "63fa35c8-fa91-44ce-cc96-4fd8ad87656c"
   },
   "outputs": [
    {
     "name": "stdout",
     "output_type": "stream",
     "text": [
      "Mounted at /content/drive\n"
     ]
    }
   ],
   "source": [
    "# google drive 연결\n",
    "# url 파일이 드라이브 안에 있거나 코랩에 올려져 있어야 함\n",
    "# 최초만 1회만 실행해도 됨\n",
    "from google.colab import drive\n",
    "drive.mount('/content/drive')"
   ]
  },
  {
   "cell_type": "code",
   "execution_count": 2,
   "id": "AbWGnFnpIlOi",
   "metadata": {
    "colab": {
     "base_uri": "https://localhost:8080/"
    },
    "collapsed": true,
    "executionInfo": {
     "elapsed": 38229,
     "status": "ok",
     "timestamp": 1728990920685,
     "user": {
      "displayName": "박선하",
      "userId": "02165607855824253665"
     },
     "user_tz": -540
    },
    "id": "AbWGnFnpIlOi",
    "jupyter": {
     "outputs_hidden": true
    },
    "outputId": "91929f71-eeb5-443a-d543-a8dda745ea21"
   },
   "outputs": [
    {
     "name": "stdout",
     "output_type": "stream",
     "text": [
      "Collecting selenium\n",
      "  Downloading selenium-4.25.0-py3-none-any.whl.metadata (7.1 kB)\n",
      "Requirement already satisfied: urllib3<3,>=1.26 in /usr/local/lib/python3.10/dist-packages (from urllib3[socks]<3,>=1.26->selenium) (2.2.3)\n",
      "Collecting trio~=0.17 (from selenium)\n",
      "  Downloading trio-0.26.2-py3-none-any.whl.metadata (8.6 kB)\n",
      "Collecting trio-websocket~=0.9 (from selenium)\n",
      "  Downloading trio_websocket-0.11.1-py3-none-any.whl.metadata (4.7 kB)\n",
      "Requirement already satisfied: certifi>=2021.10.8 in /usr/local/lib/python3.10/dist-packages (from selenium) (2024.8.30)\n",
      "Requirement already satisfied: typing_extensions~=4.9 in /usr/local/lib/python3.10/dist-packages (from selenium) (4.12.2)\n",
      "Requirement already satisfied: websocket-client~=1.8 in /usr/local/lib/python3.10/dist-packages (from selenium) (1.8.0)\n",
      "Requirement already satisfied: attrs>=23.2.0 in /usr/local/lib/python3.10/dist-packages (from trio~=0.17->selenium) (24.2.0)\n",
      "Requirement already satisfied: sortedcontainers in /usr/local/lib/python3.10/dist-packages (from trio~=0.17->selenium) (2.4.0)\n",
      "Requirement already satisfied: idna in /usr/local/lib/python3.10/dist-packages (from trio~=0.17->selenium) (3.10)\n",
      "Collecting outcome (from trio~=0.17->selenium)\n",
      "  Downloading outcome-1.3.0.post0-py2.py3-none-any.whl.metadata (2.6 kB)\n",
      "Requirement already satisfied: sniffio>=1.3.0 in /usr/local/lib/python3.10/dist-packages (from trio~=0.17->selenium) (1.3.1)\n",
      "Requirement already satisfied: exceptiongroup in /usr/local/lib/python3.10/dist-packages (from trio~=0.17->selenium) (1.2.2)\n",
      "Collecting wsproto>=0.14 (from trio-websocket~=0.9->selenium)\n",
      "  Downloading wsproto-1.2.0-py3-none-any.whl.metadata (5.6 kB)\n",
      "Requirement already satisfied: pysocks!=1.5.7,<2.0,>=1.5.6 in /usr/local/lib/python3.10/dist-packages (from urllib3[socks]<3,>=1.26->selenium) (1.7.1)\n",
      "Collecting h11<1,>=0.9.0 (from wsproto>=0.14->trio-websocket~=0.9->selenium)\n",
      "  Downloading h11-0.14.0-py3-none-any.whl.metadata (8.2 kB)\n",
      "Downloading selenium-4.25.0-py3-none-any.whl (9.7 MB)\n",
      "\u001b[2K   \u001b[90m━━━━━━━━━━━━━━━━━━━━━━━━━━━━━━━━━━━━━━━━\u001b[0m \u001b[32m9.7/9.7 MB\u001b[0m \u001b[31m53.9 MB/s\u001b[0m eta \u001b[36m0:00:00\u001b[0m\n",
      "\u001b[?25hDownloading trio-0.26.2-py3-none-any.whl (475 kB)\n",
      "\u001b[2K   \u001b[90m━━━━━━━━━━━━━━━━━━━━━━━━━━━━━━━━━━━━━━━━\u001b[0m \u001b[32m476.0/476.0 kB\u001b[0m \u001b[31m26.0 MB/s\u001b[0m eta \u001b[36m0:00:00\u001b[0m\n",
      "\u001b[?25hDownloading trio_websocket-0.11.1-py3-none-any.whl (17 kB)\n",
      "Downloading wsproto-1.2.0-py3-none-any.whl (24 kB)\n",
      "Downloading outcome-1.3.0.post0-py2.py3-none-any.whl (10 kB)\n",
      "Downloading h11-0.14.0-py3-none-any.whl (58 kB)\n",
      "\u001b[2K   \u001b[90m━━━━━━━━━━━━━━━━━━━━━━━━━━━━━━━━━━━━━━━━\u001b[0m \u001b[32m58.3/58.3 kB\u001b[0m \u001b[31m4.3 MB/s\u001b[0m eta \u001b[36m0:00:00\u001b[0m\n",
      "\u001b[?25hInstalling collected packages: outcome, h11, wsproto, trio, trio-websocket, selenium\n",
      "Successfully installed h11-0.14.0 outcome-1.3.0.post0 selenium-4.25.0 trio-0.26.2 trio-websocket-0.11.1 wsproto-1.2.0\n",
      "Get:1 http://security.ubuntu.com/ubuntu jammy-security InRelease [129 kB]\n",
      "Hit:2 http://archive.ubuntu.com/ubuntu jammy InRelease\n",
      "Get:3 http://archive.ubuntu.com/ubuntu jammy-updates InRelease [128 kB]\n",
      "Hit:4 http://archive.ubuntu.com/ubuntu jammy-backports InRelease\n",
      "Get:5 https://cloud.r-project.org/bin/linux/ubuntu jammy-cran40/ InRelease [3,626 B]\n",
      "Hit:6 https://developer.download.nvidia.com/compute/cuda/repos/ubuntu2204/x86_64  InRelease\n",
      "Ign:7 https://r2u.stat.illinois.edu/ubuntu jammy InRelease\n",
      "Get:8 https://r2u.stat.illinois.edu/ubuntu jammy Release [5,713 B]\n",
      "Get:9 https://r2u.stat.illinois.edu/ubuntu jammy Release.gpg [793 B]\n",
      "Hit:10 https://ppa.launchpadcontent.net/deadsnakes/ppa/ubuntu jammy InRelease\n",
      "Hit:11 https://ppa.launchpadcontent.net/graphics-drivers/ppa/ubuntu jammy InRelease\n",
      "Get:12 http://archive.ubuntu.com/ubuntu jammy-updates/universe amd64 Packages [1,449 kB]\n",
      "Hit:13 https://ppa.launchpadcontent.net/ubuntugis/ppa/ubuntu jammy InRelease\n",
      "Get:14 http://archive.ubuntu.com/ubuntu jammy-updates/main amd64 Packages [2,602 kB]\n",
      "Get:15 http://security.ubuntu.com/ubuntu jammy-security/main amd64 Packages [2,326 kB]\n",
      "Get:16 http://security.ubuntu.com/ubuntu jammy-security/universe amd64 Packages [1,160 kB]\n",
      "Get:17 https://r2u.stat.illinois.edu/ubuntu jammy/main amd64 Packages [2,595 kB]\n",
      "Get:18 https://r2u.stat.illinois.edu/ubuntu jammy/main all Packages [8,387 kB]\n",
      "Fetched 18.8 MB in 2s (8,077 kB/s)\n",
      "Reading package lists... Done\n",
      "W: Skipping acquire of configured file 'main/source/Sources' as repository 'https://r2u.stat.illinois.edu/ubuntu jammy InRelease' does not seem to provide it (sources.list entry misspelt?)\n",
      "Reading package lists... Done\n",
      "Building dependency tree... Done\n",
      "Reading state information... Done\n",
      "The following additional packages will be installed:\n",
      "  apparmor chromium-browser libfuse3-3 liblzo2-2 libudev1 snapd squashfs-tools systemd-hwe-hwdb\n",
      "  udev\n",
      "Suggested packages:\n",
      "  apparmor-profiles-extra apparmor-utils fuse3 zenity | kdialog\n",
      "The following NEW packages will be installed:\n",
      "  apparmor chromium-browser chromium-chromedriver libfuse3-3 liblzo2-2 snapd squashfs-tools\n",
      "  systemd-hwe-hwdb udev\n",
      "The following packages will be upgraded:\n",
      "  libudev1\n",
      "1 upgraded, 9 newly installed, 0 to remove and 50 not upgraded.\n",
      "Need to get 28.5 MB of archives.\n",
      "After this operation, 118 MB of additional disk space will be used.\n",
      "Get:1 http://archive.ubuntu.com/ubuntu jammy-updates/main amd64 apparmor amd64 3.0.4-2ubuntu2.4 [598 kB]\n",
      "Get:2 http://archive.ubuntu.com/ubuntu jammy/main amd64 liblzo2-2 amd64 2.10-2build3 [53.7 kB]\n",
      "Get:3 http://archive.ubuntu.com/ubuntu jammy/main amd64 squashfs-tools amd64 1:4.5-3build1 [159 kB]\n",
      "Get:4 http://archive.ubuntu.com/ubuntu jammy-updates/main amd64 libudev1 amd64 249.11-0ubuntu3.12 [78.2 kB]\n",
      "Get:5 http://archive.ubuntu.com/ubuntu jammy-updates/main amd64 udev amd64 249.11-0ubuntu3.12 [1,557 kB]\n",
      "Get:6 http://archive.ubuntu.com/ubuntu jammy/main amd64 libfuse3-3 amd64 3.10.5-1build1 [81.2 kB]\n",
      "Get:7 http://archive.ubuntu.com/ubuntu jammy-updates/main amd64 snapd amd64 2.63+22.04ubuntu0.1 [25.9 MB]\n",
      "Get:8 http://archive.ubuntu.com/ubuntu jammy-updates/universe amd64 chromium-browser amd64 1:85.0.4183.83-0ubuntu2.22.04.1 [49.2 kB]\n",
      "Get:9 http://archive.ubuntu.com/ubuntu jammy-updates/universe amd64 chromium-chromedriver amd64 1:85.0.4183.83-0ubuntu2.22.04.1 [2,308 B]\n",
      "Get:10 http://archive.ubuntu.com/ubuntu jammy-updates/main amd64 systemd-hwe-hwdb all 249.11.5 [3,228 B]\n",
      "Fetched 28.5 MB in 0s (63.0 MB/s)\n",
      "Preconfiguring packages ...\n",
      "Selecting previously unselected package apparmor.\n",
      "(Reading database ... 123621 files and directories currently installed.)\n",
      "Preparing to unpack .../apparmor_3.0.4-2ubuntu2.4_amd64.deb ...\n",
      "Unpacking apparmor (3.0.4-2ubuntu2.4) ...\n",
      "Selecting previously unselected package liblzo2-2:amd64.\n",
      "Preparing to unpack .../liblzo2-2_2.10-2build3_amd64.deb ...\n",
      "Unpacking liblzo2-2:amd64 (2.10-2build3) ...\n",
      "Selecting previously unselected package squashfs-tools.\n",
      "Preparing to unpack .../squashfs-tools_1%3a4.5-3build1_amd64.deb ...\n",
      "Unpacking squashfs-tools (1:4.5-3build1) ...\n",
      "Preparing to unpack .../libudev1_249.11-0ubuntu3.12_amd64.deb ...\n",
      "Unpacking libudev1:amd64 (249.11-0ubuntu3.12) over (249.11-0ubuntu3.10) ...\n",
      "Setting up libudev1:amd64 (249.11-0ubuntu3.12) ...\n",
      "Selecting previously unselected package udev.\n",
      "(Reading database ... 123829 files and directories currently installed.)\n",
      "Preparing to unpack .../udev_249.11-0ubuntu3.12_amd64.deb ...\n",
      "Unpacking udev (249.11-0ubuntu3.12) ...\n",
      "Selecting previously unselected package libfuse3-3:amd64.\n",
      "Preparing to unpack .../libfuse3-3_3.10.5-1build1_amd64.deb ...\n",
      "Unpacking libfuse3-3:amd64 (3.10.5-1build1) ...\n",
      "Selecting previously unselected package snapd.\n",
      "Preparing to unpack .../snapd_2.63+22.04ubuntu0.1_amd64.deb ...\n",
      "Unpacking snapd (2.63+22.04ubuntu0.1) ...\n",
      "Setting up apparmor (3.0.4-2ubuntu2.4) ...\n",
      "Created symlink /etc/systemd/system/sysinit.target.wants/apparmor.service → /lib/systemd/system/apparmor.service.\n",
      "Setting up liblzo2-2:amd64 (2.10-2build3) ...\n",
      "Setting up squashfs-tools (1:4.5-3build1) ...\n",
      "Setting up udev (249.11-0ubuntu3.12) ...\n",
      "invoke-rc.d: could not determine current runlevel\n",
      "invoke-rc.d: policy-rc.d denied execution of start.\n",
      "Setting up libfuse3-3:amd64 (3.10.5-1build1) ...\n",
      "Setting up snapd (2.63+22.04ubuntu0.1) ...\n",
      "Created symlink /etc/systemd/system/multi-user.target.wants/snapd.apparmor.service → /lib/systemd/system/snapd.apparmor.service.\n",
      "Created symlink /etc/systemd/system/multi-user.target.wants/snapd.autoimport.service → /lib/systemd/system/snapd.autoimport.service.\n",
      "Created symlink /etc/systemd/system/multi-user.target.wants/snapd.core-fixup.service → /lib/systemd/system/snapd.core-fixup.service.\n",
      "Created symlink /etc/systemd/system/multi-user.target.wants/snapd.recovery-chooser-trigger.service → /lib/systemd/system/snapd.recovery-chooser-trigger.service.\n",
      "Created symlink /etc/systemd/system/multi-user.target.wants/snapd.seeded.service → /lib/systemd/system/snapd.seeded.service.\n",
      "Created symlink /etc/systemd/system/cloud-final.service.wants/snapd.seeded.service → /lib/systemd/system/snapd.seeded.service.\n",
      "Unit /lib/systemd/system/snapd.seeded.service is added as a dependency to a non-existent unit cloud-final.service.\n",
      "Created symlink /etc/systemd/system/multi-user.target.wants/snapd.service → /lib/systemd/system/snapd.service.\n",
      "Created symlink /etc/systemd/system/timers.target.wants/snapd.snap-repair.timer → /lib/systemd/system/snapd.snap-repair.timer.\n",
      "Created symlink /etc/systemd/system/sockets.target.wants/snapd.socket → /lib/systemd/system/snapd.socket.\n",
      "Created symlink /etc/systemd/system/final.target.wants/snapd.system-shutdown.service → /lib/systemd/system/snapd.system-shutdown.service.\n",
      "Selecting previously unselected package chromium-browser.\n",
      "(Reading database ... 124059 files and directories currently installed.)\n",
      "Preparing to unpack .../chromium-browser_1%3a85.0.4183.83-0ubuntu2.22.04.1_amd64.deb ...\n",
      "=> Installing the chromium snap\n",
      "==> Checking connectivity with the snap store\n",
      "===> System doesn't have a working snapd, skipping\n",
      "Unpacking chromium-browser (1:85.0.4183.83-0ubuntu2.22.04.1) ...\n",
      "Selecting previously unselected package chromium-chromedriver.\n",
      "Preparing to unpack .../chromium-chromedriver_1%3a85.0.4183.83-0ubuntu2.22.04.1_amd64.deb ...\n",
      "Unpacking chromium-chromedriver (1:85.0.4183.83-0ubuntu2.22.04.1) ...\n",
      "Selecting previously unselected package systemd-hwe-hwdb.\n",
      "Preparing to unpack .../systemd-hwe-hwdb_249.11.5_all.deb ...\n",
      "Unpacking systemd-hwe-hwdb (249.11.5) ...\n",
      "Setting up systemd-hwe-hwdb (249.11.5) ...\n",
      "Setting up chromium-browser (1:85.0.4183.83-0ubuntu2.22.04.1) ...\n",
      "update-alternatives: using /usr/bin/chromium-browser to provide /usr/bin/x-www-browser (x-www-browser) in auto mode\n",
      "update-alternatives: using /usr/bin/chromium-browser to provide /usr/bin/gnome-www-browser (gnome-www-browser) in auto mode\n",
      "Setting up chromium-chromedriver (1:85.0.4183.83-0ubuntu2.22.04.1) ...\n",
      "Processing triggers for udev (249.11-0ubuntu3.12) ...\n",
      "Processing triggers for hicolor-icon-theme (0.17-2) ...\n",
      "Processing triggers for libc-bin (2.35-0ubuntu3.4) ...\n",
      "/sbin/ldconfig.real: /usr/local/lib/libur_adapter_opencl.so.0 is not a symbolic link\n",
      "\n",
      "/sbin/ldconfig.real: /usr/local/lib/libur_loader.so.0 is not a symbolic link\n",
      "\n",
      "/sbin/ldconfig.real: /usr/local/lib/libtbbbind.so.3 is not a symbolic link\n",
      "\n",
      "/sbin/ldconfig.real: /usr/local/lib/libtbb.so.12 is not a symbolic link\n",
      "\n",
      "/sbin/ldconfig.real: /usr/local/lib/libtbbbind_2_0.so.3 is not a symbolic link\n",
      "\n",
      "/sbin/ldconfig.real: /usr/local/lib/libtbbmalloc_proxy.so.2 is not a symbolic link\n",
      "\n",
      "/sbin/ldconfig.real: /usr/local/lib/libur_adapter_level_zero.so.0 is not a symbolic link\n",
      "\n",
      "/sbin/ldconfig.real: /usr/local/lib/libtbbmalloc.so.2 is not a symbolic link\n",
      "\n",
      "/sbin/ldconfig.real: /usr/local/lib/libtbbbind_2_5.so.3 is not a symbolic link\n",
      "\n",
      "Processing triggers for man-db (2.10.2-1) ...\n",
      "Processing triggers for dbus (1.12.20-2ubuntu4.1) ...\n",
      "cp: '/usr/lib/chromium-browser/chromedriver' and '/usr/bin/chromedriver' are the same file\n",
      "Collecting chromedriver-autoinstaller\n",
      "  Downloading chromedriver_autoinstaller-0.6.4-py3-none-any.whl.metadata (2.1 kB)\n",
      "Requirement already satisfied: packaging>=23.1 in /usr/local/lib/python3.10/dist-packages (from chromedriver-autoinstaller) (24.1)\n",
      "Downloading chromedriver_autoinstaller-0.6.4-py3-none-any.whl (7.6 kB)\n",
      "Installing collected packages: chromedriver-autoinstaller\n",
      "Successfully installed chromedriver-autoinstaller-0.6.4\n"
     ]
    }
   ],
   "source": [
    "# selenium & chrome driver 설치\n",
    "# 최초 1회만 실행하기!\n",
    "!pip install selenium\n",
    "!apt-get update\n",
    "!apt install chromium-chromedriver\n",
    "!cp /usr/lib/chromium-browser/chromedriver /usr/bin\n",
    "!pip install chromedriver-autoinstaller"
   ]
  },
  {
   "cell_type": "code",
   "execution_count": 3,
   "id": "xEArDuT9Iw69",
   "metadata": {
    "colab": {
     "base_uri": "https://localhost:8080/"
    },
    "executionInfo": {
     "elapsed": 7,
     "status": "ok",
     "timestamp": 1728990920685,
     "user": {
      "displayName": "박선하",
      "userId": "02165607855824253665"
     },
     "user_tz": -540
    },
    "id": "xEArDuT9Iw69",
    "outputId": "e6410ded-73ac-42b3-ae62-342dd7cc4d2d"
   },
   "outputs": [
    {
     "name": "stdout",
     "output_type": "stream",
     "text": [
      "Python 3.10.12\n",
      "4.25.0\n"
     ]
    }
   ],
   "source": [
    "# Selenium 설치 확인\n",
    "!python --version\n",
    "import selenium\n",
    "print(selenium.__version__)"
   ]
  },
  {
   "cell_type": "code",
   "execution_count": 4,
   "id": "b45ee561-9bfc-4841-81e9-79d3c36cf250",
   "metadata": {
    "executionInfo": {
     "elapsed": 953,
     "status": "ok",
     "timestamp": 1728990921634,
     "user": {
      "displayName": "박선하",
      "userId": "02165607855824253665"
     },
     "user_tz": -540
    },
    "id": "b45ee561-9bfc-4841-81e9-79d3c36cf250"
   },
   "outputs": [],
   "source": [
    "#Selenium import\n",
    "from selenium import webdriver\n",
    "from selenium.webdriver import ActionChains\n",
    "from selenium.webdriver.common.by import By\n",
    "from selenium.common.exceptions import NoSuchElementException  # 예외 처리 추가\n",
    "from selenium.webdriver.chrome.options import Options # user-agent 변경\n",
    "#pandas import\n",
    "import pandas as pd\n",
    "#standard library\n",
    "import time, os, random, sys, json\n",
    "# chrome options\n",
    "import chromedriver_autoinstaller"
   ]
  },
  {
   "cell_type": "markdown",
   "id": "9PTW_y-bQ1Oj",
   "metadata": {
    "id": "9PTW_y-bQ1Oj"
   },
   "source": [
    "# Auto Dict\n",
    "Json 처리할 때 쓰려고 만든 dictionary 자료형 처리 클래스"
   ]
  },
  {
   "cell_type": "code",
   "execution_count": 5,
   "id": "3cgL1qMzQ0EJ",
   "metadata": {
    "executionInfo": {
     "elapsed": 3,
     "status": "ok",
     "timestamp": 1728990921635,
     "user": {
      "displayName": "박선하",
      "userId": "02165607855824253665"
     },
     "user_tz": -540
    },
    "id": "3cgL1qMzQ0EJ"
   },
   "outputs": [],
   "source": [
    "class AutoDict:\n",
    "    def __init__(self, existing_data=None):\n",
    "        self.data = {}\n",
    "        self.counter = 1  # 기본적으로 1부터 시작하지만 기존 데이터가 있으면 수정\n",
    "        if existing_data:\n",
    "            self.load_existing_data(existing_data)\n",
    "\n",
    "    def load_existing_data(self, existing_data):\n",
    "        # 기존 JSON 데이터를 로드하고 key에 맞춰 데이터를 채움\n",
    "        self.data = {int(k): v for k, v in existing_data.items()}\n",
    "        self.counter = max(self.data.keys()) + 1  # 다음 번호는 가장 큰 key + 1\n",
    "\n",
    "    def add(self, value):\n",
    "        # 가장 작은 빈 key를 찾아서 할당\n",
    "        key = self._get_next_key()\n",
    "        self.data[key] = value\n",
    "\n",
    "    def remove(self, key):\n",
    "        # key가 있는지 확인 후 삭제\n",
    "        if key in self.data:\n",
    "            del self.data[key]\n",
    "            # key를 채우기 위해 재정렬\n",
    "            self._fill_empty_keys()\n",
    "\n",
    "    def _get_next_key(self):\n",
    "        # 빈 key를 찾음\n",
    "        for i in range(1, len(self.data) + 2):\n",
    "            if i not in self.data:\n",
    "                return i\n",
    "\n",
    "    def _fill_empty_keys(self):\n",
    "        # key를 순차적으로 채우기 위해 데이터를 재정렬\n",
    "        values = list(self.data.values())\n",
    "        self.data = {i + 1: values[i] for i in range(len(values))}\n",
    "\n",
    "    def __str__(self):\n",
    "        return str(self.data)"
   ]
  },
  {
   "cell_type": "markdown",
   "id": "GGddytpVYKfL",
   "metadata": {
    "id": "GGddytpVYKfL"
   },
   "source": [
    "# 데이터 불러오기\n",
    "여기서 불러올 url 데이터랑 저장할 파일 경로 입력해주면 됨"
   ]
  },
  {
   "cell_type": "code",
   "execution_count": 6,
   "id": "EFn1dzFemXsf",
   "metadata": {
    "executionInfo": {
     "elapsed": 1237,
     "status": "ok",
     "timestamp": 1728990922869,
     "user": {
      "displayName": "박선하",
      "userId": "02165607855824253665"
     },
     "user_tz": -540
    },
    "id": "EFn1dzFemXsf"
   },
   "outputs": [],
   "source": [
    "data = pd.read_csv('/content/drive/Othercomputers/내 노트북/scrapping_darkpattern/data/test.CSV') # Input 파일(URL) 경로\n",
    "output_file = \"/content/drive/Othercomputers/내 노트북/scrapping_darkpattern/result/test.json\" # Output 파일 경로"
   ]
  },
  {
   "cell_type": "code",
   "execution_count": 7,
   "id": "vaXBuqlgS77j",
   "metadata": {
    "executionInfo": {
     "elapsed": 3,
     "status": "ok",
     "timestamp": 1728990922869,
     "user": {
      "displayName": "박선하",
      "userId": "02165607855824253665"
     },
     "user_tz": -540
    },
    "id": "vaXBuqlgS77j"
   },
   "outputs": [],
   "source": [
    "# 기존 데이터가 있는지 확인하고 로드\n",
    "if os.path.isfile(output_file):\n",
    "    with open(output_file, 'r', encoding='utf-8') as f:\n",
    "        try:\n",
    "            output_data = json.load(f)  # 기존 데이터 읽기\n",
    "            output_dataset = AutoDict(output_data)  # AutoDict 인스턴스 생성\n",
    "        except json.JSONDecodeError:  # 파일이 비어 있을 경우 처리\n",
    "            output_dataset = AutoDict()\n",
    "else:\n",
    "    output_dataset = AutoDict()"
   ]
  },
  {
   "cell_type": "markdown",
   "id": "61c9b504-62dc-4b26-b1f4-47942b3ba9f8",
   "metadata": {
    "id": "61c9b504-62dc-4b26-b1f4-47942b3ba9f8"
   },
   "source": [
    "# function"
   ]
  },
  {
   "cell_type": "code",
   "execution_count": 8,
   "id": "23c5dbd3-e024-4544-8c5e-d0b2804e007a",
   "metadata": {
    "executionInfo": {
     "elapsed": 2,
     "status": "ok",
     "timestamp": 1728990922869,
     "user": {
      "displayName": "박선하",
      "userId": "02165607855824253665"
     },
     "user_tz": -540
    },
    "id": "23c5dbd3-e024-4544-8c5e-d0b2804e007a"
   },
   "outputs": [],
   "source": [
    "def search_keyword(keywords, driver, url):\n",
    "    # keyword가 포함된 block 불러와서 JSON 파일에 저장하는 함수\n",
    "\n",
    "    # XPath OR 조건 생성\n",
    "    xpath_conditions = \" or \".join([f\"contains(text(), '{keyword}')\" for keyword in keywords])\n",
    "    # 최종 XPath\n",
    "    xpath = f\"//*[{xpath_conditions}]\"\n",
    "    # Selenium을 활용해 요소 찾기\n",
    "    elements = driver.find_elements(By.XPATH, xpath)\n",
    "\n",
    "    # 데이터 생성\n",
    "    #3. 데이터 가져오기\n",
    "    find_div(elements, keywords, url)"
   ]
  },
  {
   "cell_type": "code",
   "execution_count": 9,
   "id": "cec0fe00-bb41-4b0f-a43c-a26fb8cd28bb",
   "metadata": {
    "executionInfo": {
     "elapsed": 2,
     "status": "ok",
     "timestamp": 1728990922869,
     "user": {
      "displayName": "박선하",
      "userId": "02165607855824253665"
     },
     "user_tz": -540
    },
    "id": "cec0fe00-bb41-4b0f-a43c-a26fb8cd28bb",
    "scrolled": true
   },
   "outputs": [],
   "source": [
    "# div 레이아웃 가져오기\n",
    "def find_div(elements, keywords, url):\n",
    "\n",
    "    for element in elements:\n",
    "        try:\n",
    "            # 현재 요소를 포함하는 가장 가까운 div 찾기\n",
    "            closest_div = element.find_element(By.XPATH, './ancestor::div[1]')\n",
    "            html_code = closest_div.get_attribute('outerHTML')\n",
    "\n",
    "            # CSS 스타일 가져오기\n",
    "            css_styles = driver.execute_script(\"\"\"\n",
    "               const parent = arguments[0];\n",
    "               const allElements = [parent, ...parent.querySelectorAll('*')]; // 모든 자식 요소를 선택\n",
    "               const styles = {};\n",
    "               allElements.forEach(element => {\n",
    "                   const computedStyle = window.getComputedStyle(element);\n",
    "                   const className = element.className.trim(); // 클래스 이름 가져오기\n",
    "                   if (className) {\n",
    "                       const styleObject = {};\n",
    "                       for (let i = 0; i < computedStyle.length; i++) {\n",
    "                           const property = computedStyle.item(i);\n",
    "                           styleObject[property] = computedStyle.getPropertyValue(property);\n",
    "                      }\n",
    "                   styles[`.${className.replace(/\\s+/g, '.')}`] = styleObject;\n",
    "                   }\n",
    "                });\n",
    "                return styles;\n",
    "            \"\"\", closest_div)\n",
    "\n",
    "            # 스타일 출력\n",
    "            style_output = \"\"\n",
    "            for class_selector, styles in css_styles.items():  # 딕셔너리의 각 항목\n",
    "                style_output += f\"{class_selector} {{ \\n\"\n",
    "                for property, value in styles.items():\n",
    "                    style_output += f\"  {property}: {value};\\n\"\n",
    "                style_output += \"}\\n\"\n",
    "\n",
    "            # 일치하는 키워드 찾기\n",
    "            matched_keywords = [keyword for keyword in keywords if keyword in html_code]\n",
    "\n",
    "            # 결과 저장\n",
    "            output_dataset.add({'HTML': html_code, 'CSS': style_output, 'Matched Keywords': matched_keywords, 'URL': url})\n",
    "\n",
    "            # 결과 출력\n",
    "            print(\"HTML Code:\")\n",
    "            print(html_code)\n",
    "\n",
    "        except NoSuchElementException:\n",
    "            print(\"가장 가까운 div 요소를 찾을 수 없습니다.\")\n",
    "\n",
    "    return"
   ]
  },
  {
   "cell_type": "markdown",
   "id": "967aaad3-1d3f-491c-818f-18c5fbed2117",
   "metadata": {
    "id": "967aaad3-1d3f-491c-818f-18c5fbed2117"
   },
   "source": [
    "# Scrapper"
   ]
  },
  {
   "cell_type": "code",
   "execution_count": 10,
   "id": "db1e114e-5e09-4fdc-88cb-c2385fa627c1",
   "metadata": {
    "executionInfo": {
     "elapsed": 327,
     "status": "ok",
     "timestamp": 1728990932884,
     "user": {
      "displayName": "박선하",
      "userId": "02165607855824253665"
     },
     "user_tz": -540
    },
    "id": "db1e114e-5e09-4fdc-88cb-c2385fa627c1"
   },
   "outputs": [],
   "source": [
    "# Chrome 옵션 설정\n",
    "chrome_options = webdriver.ChromeOptions()\n",
    "chrome_options.add_argument('--headless') # ensure GUI is off\n",
    "chrome_options.add_argument('--no-sandbox')\n",
    "chrome_options.add_argument('--disable-dev-shm-usage')  # set path to chromedriver as per your configuration\n",
    "chrome_options.add_argument('lang=ko_KR') # 한국어\n",
    "\n",
    "chrome_options.add_argument(\"Mozilla/5.0\")  # 원하는 User-Agent 문자열로 변경"
   ]
  },
  {
   "cell_type": "code",
   "execution_count": 11,
   "id": "34a362e1-7133-4585-975d-8541d6f45f6e",
   "metadata": {
    "executionInfo": {
     "elapsed": 10251,
     "status": "ok",
     "timestamp": 1728990943457,
     "user": {
      "displayName": "박선하",
      "userId": "02165607855824253665"
     },
     "user_tz": -540
    },
    "id": "34a362e1-7133-4585-975d-8541d6f45f6e"
   },
   "outputs": [],
   "source": [
    "driver = webdriver.Chrome(options=chrome_options) # chrome driver의 경로가 파일 경로와 같아야 함"
   ]
  },
  {
   "cell_type": "code",
   "execution_count": 12,
   "id": "6e94d1dd-5088-4fc2-957c-93d622c5f9b3",
   "metadata": {
    "executionInfo": {
     "elapsed": 4,
     "status": "ok",
     "timestamp": 1728990943457,
     "user": {
      "displayName": "박선하",
      "userId": "02165607855824253665"
     },
     "user_tz": -540
    },
    "id": "6e94d1dd-5088-4fc2-957c-93d622c5f9b3"
   },
   "outputs": [],
   "source": [
    "# Keyword 설정\n",
    "price_disrupt = [\"실적\", \"조건\", \"신한카드\", \"삼성카드\", \"KB국민카드\", \"현대카드\", \"롯데카드\", \"우리카드\", \"하나카드\", \"BC카드\", \"NH농협카드\"]\n",
    "hidden_info = [ \"세금\", \"수수료\", \"청소료\", \"부가세\", \"서비스세\", \"관세\", \"팁\", \"관리비\", \"청소비\", \"청소료\", \"정리비\", \"운영비\", \"중개료\", \"중개비\"]\n",
    "emotional_lang = [\"마지막\", \"포기\", \"정말로\", \"놓치지\", \"기회\", \"지금\", \"한정\", \"수량\", \"곧\", \"마감\", \"임박\", \"가장\", \"너무\", \"망설\"]\n",
    "disguised_ad = [\"AD\", \"ad\", \"Ad\"]\n",
    "trap_question = [\"않으\"]\n",
    "false_sale = [\"1+1 할인\", \"1+1할인\", \"원쁠원 할인\", \"원플원 할인\", \"원 쁠 원 할인\", \"원 플 원 할인\"]\n",
    "\n",
    "keywords_dict = [price_disrupt, hidden_info, emotional_lang, disguised_ad, trap_question, false_sale]"
   ]
  },
  {
   "cell_type": "code",
   "execution_count": 13,
   "id": "ce1863c7-c9fd-40a4-b3ec-759697ea0a0e",
   "metadata": {
    "colab": {
     "base_uri": "https://localhost:8080/"
    },
    "collapsed": true,
    "executionInfo": {
     "elapsed": 8993,
     "status": "ok",
     "timestamp": 1728990952446,
     "user": {
      "displayName": "박선하",
      "userId": "02165607855824253665"
     },
     "user_tz": -540
    },
    "id": "ce1863c7-c9fd-40a4-b3ec-759697ea0a0e",
    "jupyter": {
     "outputs_hidden": true
    },
    "outputId": "c074849e-0011-45f9-d004-c7eefb086dd8",
    "scrolled": true
   },
   "outputs": [
    {
     "name": "stdout",
     "output_type": "stream",
     "text": [
      "https://flight.naver.com/flights/international/ICN-BUS-20241113/BUS-ICN-20241120?adult=1&fareType=Y\n",
      "HTML Code:\n",
      "<div class=\"item_defaultSummary__iVehV\" itemscope=\"\"><span class=\"item_type__79id0\" itemprop=\"name\">성인/KB국민카드(이용실적 충족시)</span><b class=\"item_usual__wg002\" itemprop=\"offers\">왕복 <i class=\"item_num__aKbk4\">1,802,200</i><span class=\"item_unit__ZqikD\">원~</span></b></div>\n",
      "HTML Code:\n",
      "<div class=\"item_defaultSummary__iVehV\" itemscope=\"\"><span class=\"item_type__79id0\" itemprop=\"name\">성인/KB국민카드(이용실적 충족시)</span><b class=\"item_usual__wg002\" itemprop=\"offers\">왕복 <i class=\"item_num__aKbk4\">1,833,500</i><span class=\"item_unit__ZqikD\">원~</span></b></div>\n",
      "HTML Code:\n",
      "<div class=\"item_defaultSummary__iVehV\" itemscope=\"\"><span class=\"item_type__79id0\" itemprop=\"name\">성인/KB국민카드(이용실적 충족시)</span><b class=\"item_usual__wg002\" itemprop=\"offers\">왕복 <i class=\"item_num__aKbk4\">1,836,100</i><span class=\"item_unit__ZqikD\">원~</span></b></div>\n",
      "HTML Code:\n",
      "<div class=\"item_defaultSummary__iVehV\" itemscope=\"\"><span class=\"item_type__79id0\" itemprop=\"name\">성인/KB국민카드(이용실적 충족시)</span><b class=\"item_usual__wg002\" itemprop=\"offers\">왕복 <i class=\"item_num__aKbk4\">1,921,400</i><span class=\"item_unit__ZqikD\">원~</span></b></div>\n",
      "HTML Code:\n",
      "<div class=\"item_defaultSummary__iVehV\" itemscope=\"\"><span class=\"item_type__79id0\" itemprop=\"name\">성인/롯데카드</span><b class=\"item_usual__wg002\" itemprop=\"offers\">왕복 <i class=\"item_num__aKbk4\">2,266,400</i><span class=\"item_unit__ZqikD\">원~</span></b></div>\n",
      "HTML Code:\n",
      "<div class=\"item_defaultSummary__iVehV\" itemscope=\"\"><span class=\"item_type__79id0\" itemprop=\"name\">성인/KB국민카드(이용실적 충족시)</span><b class=\"item_usual__wg002\" itemprop=\"offers\">왕복 <i class=\"item_num__aKbk4\">2,397,100</i><span class=\"item_unit__ZqikD\">원~</span></b></div>\n",
      "가장 가까운 div 요소를 찾을 수 없습니다.\n",
      "가장 가까운 div 요소를 찾을 수 없습니다.\n",
      "가장 가까운 div 요소를 찾을 수 없습니다.\n",
      "가장 가까운 div 요소를 찾을 수 없습니다.\n",
      "가장 가까운 div 요소를 찾을 수 없습니다.\n",
      "가장 가까운 div 요소를 찾을 수 없습니다.\n",
      "가장 가까운 div 요소를 찾을 수 없습니다.\n",
      "HTML Code:\n",
      "<div class=\"banner_ImageBanner__Mt7f1\" style=\"background-color: rgb(0, 60, 220);\"><a class=\"banner_anchor__4pOBM\" href=\"https://travel-event.naver.com/promotion/samsungfire-event\" rel=\"noreferrer\" target=\"_blank\"><img class=\"banner_img__44yNu\" src=\"https://search.pstatic.net/common/?src=https://vertical.pstatic.net/vertical/static/regularBanner/rc-upload-1716265747403-3.png\" alt=\"\"><i class=\"banner_ad__lVMkg\"><span class=\"banner_txt__Z5Hvi\">AD</span></i></a></div>\n",
      "가장 가까운 div 요소를 찾을 수 없습니다.\n"
     ]
    }
   ],
   "source": [
    "for url in data['URL']:\n",
    "\n",
    "    #1.url open\n",
    "    print(url)\n",
    "    driver.get(url)\n",
    "\n",
    "    # time.sleep(random.randrange(10, 20)) # 10초 이상 기다려서 로딩되는데 걸리는 시간을 주기\n",
    "    time.sleep(5)\n",
    "    for keyword in keywords_dict:\n",
    "        search_keyword(keyword, driver, url) # element 불러와서 output_dataset에 저장\n"
   ]
  },
  {
   "cell_type": "code",
   "execution_count": 14,
   "id": "4FuZy7BOWHrC",
   "metadata": {
    "executionInfo": {
     "elapsed": 4,
     "status": "ok",
     "timestamp": 1728990952446,
     "user": {
      "displayName": "박선하",
      "userId": "02165607855824253665"
     },
     "user_tz": -540
    },
    "id": "4FuZy7BOWHrC"
   },
   "outputs": [],
   "source": [
    "# JSON으로 바꿔서 저장하기\n",
    "with open(output_file, 'w', encoding='utf-8') as f:\n",
    "    json.dump(output_dataset.data, f, ensure_ascii=False, indent=4)"
   ]
  },
  {
   "cell_type": "code",
   "execution_count": 15,
   "id": "6b372716-a20e-4b5b-ba04-8ffbee0b5346",
   "metadata": {
    "executionInfo": {
     "elapsed": 4,
     "status": "ok",
     "timestamp": 1728990952446,
     "user": {
      "displayName": "박선하",
      "userId": "02165607855824253665"
     },
     "user_tz": -540
    },
    "id": "6b372716-a20e-4b5b-ba04-8ffbee0b5346"
   },
   "outputs": [],
   "source": [
    "driver.quit()"
   ]
  },
  {
   "cell_type": "code",
   "execution_count": 15,
   "id": "93707d96-a011-4383-af16-ee39390f3a10",
   "metadata": {
    "executionInfo": {
     "elapsed": 4,
     "status": "ok",
     "timestamp": 1728990952446,
     "user": {
      "displayName": "박선하",
      "userId": "02165607855824253665"
     },
     "user_tz": -540
    },
    "id": "93707d96-a011-4383-af16-ee39390f3a10"
   },
   "outputs": [],
   "source": []
  },
  {
   "cell_type": "code",
   "execution_count": 15,
   "id": "469b3ad8-bd01-49ee-97e1-75a18b2382d3",
   "metadata": {
    "executionInfo": {
     "elapsed": 3,
     "status": "ok",
     "timestamp": 1728990952446,
     "user": {
      "displayName": "박선하",
      "userId": "02165607855824253665"
     },
     "user_tz": -540
    },
    "id": "469b3ad8-bd01-49ee-97e1-75a18b2382d3"
   },
   "outputs": [],
   "source": []
  }
 ],
 "metadata": {
  "colab": {
   "provenance": []
  },
  "kernelspec": {
   "display_name": "Python 3 (ipykernel)",
   "language": "python",
   "name": "python3"
  },
  "language_info": {
   "codemirror_mode": {
    "name": "ipython",
    "version": 3
   },
   "file_extension": ".py",
   "mimetype": "text/x-python",
   "name": "python",
   "nbconvert_exporter": "python",
   "pygments_lexer": "ipython3",
   "version": "3.11.7"
  }
 },
 "nbformat": 4,
 "nbformat_minor": 5
}
