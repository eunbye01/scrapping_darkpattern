{
 "cells": [
  {
   "cell_type": "code",
   "execution_count": null,
   "id": "78966097-13a2-4316-910a-d2a0c201801d",
   "metadata": {},
   "outputs": [],
   "source": [
    "# 설명 : 동적페이지에 키워드가 있는 지 확인 -> 앞에서 찾은 부분이 정적 페이지에 있는 지 확인 - > 있으면 추출"
   ]
  },
  {
   "cell_type": "code",
   "execution_count": 17,
   "id": "413f7b8f-ce69-4db1-9fee-d39a8611c3b5",
   "metadata": {},
   "outputs": [],
   "source": [
    "# keyword 예시 : ~남음, ~개, ~보고 있~, ~까지, ~명이 담음, ~보는 "
   ]
  },
  {
   "cell_type": "code",
   "execution_count": 34,
   "id": "254c4d0f-67f8-41d6-b4bf-cf9eb97cbf0b",
   "metadata": {},
   "outputs": [],
   "source": [
    "#standard library\n",
    "import time, os, random\n",
    "\n",
    "#pandas import\n",
    "import pandas as pd\n",
    "import time\n",
    "import os\n",
    "\n",
    "#Selenium import\n",
    "from selenium import webdriver\n",
    "from selenium.webdriver import ActionChains\n",
    "from selenium.webdriver.common.by import By\n",
    "from selenium.common.exceptions import NoSuchElementException  # 예외 처리 추가\n",
    "from selenium.common.exceptions import StaleElementReferenceException #예외 처리 추가\n",
    "from selenium.webdriver.chrome.options import Options # user-agent 변경\n",
    "\n",
    "#BeautifulSoup import\n",
    "from bs4 import BeautifulSoup\n",
    "from urllib.request import Request, urlopen"
   ]
  },
  {
   "cell_type": "markdown",
   "id": "613189a6-3708-4956-a50f-b88a1af75be1",
   "metadata": {},
   "source": [
    "# Function"
   ]
  },
  {
   "cell_type": "code",
   "execution_count": 2,
   "id": "553a3037-75ec-4ee7-8533-71edbcdd3b2b",
   "metadata": {},
   "outputs": [],
   "source": [
    "# keyword가 포함된 block 불러와서 csv 파일에 저장하는 함수\n",
    "def search_keyword(keywords, url, driver):\n",
    "    \n",
    "    #1. url을 연다\n",
    "    print(\"Dynamic URL open : \"+ url)\n",
    "    driver.get(url) #동적 페이지\n",
    "\n",
    "    time.sleep(random.randrange(10,20)) #로딩되는데 걸리는 시간(10초 이상)\n",
    "    \n",
    "    # XPath OR 조건 생성\n",
    "    xpath_conditions = \" or \".join([f\"contains(text(), '{keyword}')\" for keyword in keywords])\n",
    "    # 최종 XPath\n",
    "    xpath = f\"//*[{xpath_conditions}]\"\n",
    "    # 2.Selenium을 활용해 요소 찾기\n",
    "    dynamic_elements = driver.find_elements(By.XPATH, xpath)\n",
    "    driver.execute_script(\"window.scrollTo(0, 1000)\")\n",
    "    \n",
    "    # 각 요소가 어떤 키워드를 포함하는지 확인하기 위한 리스트\n",
    "    matched_keywords = []\n",
    "    \n",
    "    #3-1. div 레이아웃 가져오기\n",
    "    dynamic_blocks, css_blocks = find_div(dynamic_elements)\n",
    "    #3-2. 어떤 키워드와 일치하는지 찾음\n",
    "    for html_elements in dynamic_blocks:\n",
    "        element_keywords = [keyword for keyword in keywords if keyword in html_elements]\n",
    "        matched_keywords.append(\", \".join(element_keywords))\n",
    "    \n",
    "    return dynamic_blocks, css_blocks, matched_keywords, dynamic_elements"
   ]
  },
  {
   "cell_type": "code",
   "execution_count": 3,
   "id": "c8072b24-a28a-486b-a151-67c5be9808a0",
   "metadata": {},
   "outputs": [],
   "source": [
    "# 가장 작은 div 레이아웃 가져오기\n",
    "def find_div(elements):\n",
    "    html = []\n",
    "    css = []\n",
    "    for element in elements:\n",
    "        try:\n",
    "            # 현재 요소를 포함하는 가장 가까운 div 찾기\n",
    "            closest_div = element.find_element(By.XPATH, './ancestor::div[1]')\n",
    "            html_code = closest_div.get_attribute('outerHTML')\n",
    "            \n",
    "            # CSS 스타일 가져오기\n",
    "            css_style = driver.execute_script(\"\"\"\n",
    "                const styles = window.getComputedStyle(arguments[0]);\n",
    "                const styleObject = {};\n",
    "                for (let i = 0; i < styles.length; i++) {\n",
    "                    const propName = styles[i];\n",
    "                    styleObject[propName] = styles.getPropertyValue(propName);\n",
    "                }\n",
    "                return styleObject;\n",
    "            \"\"\", closest_div)\n",
    "            \n",
    "            # 스타일 출력\n",
    "            style_output = \"CSS Style:\\n\"\n",
    "            for style_name, style_value in css_style.items():  # 딕셔너리의 각 항목\n",
    "                style_output += f\"{style_name}: {style_value}\\n\"\n",
    "            \n",
    "            # 결과 출력\n",
    "            print(\"HTML Code:\")\n",
    "            print(html_code)\n",
    "            print(style_output)\n",
    "            \n",
    "            #결과값 저장\n",
    "            html.append(html_code)\n",
    "            css.append(style_output)\n",
    "            \n",
    "        except NoSuchElementException:\n",
    "            print(\"가장 가까운 div 요소를 찾을 수 없습니다.\")\n",
    "            \n",
    "    return html, css"
   ]
  },
  {
   "cell_type": "code",
   "execution_count": 4,
   "id": "b079e448-57ca-4f1a-968b-9f5eece81dac",
   "metadata": {},
   "outputs": [],
   "source": [
    "#가장 작은 div 레이아웃 가져오기 (static _ beautifulSoup)\n",
    "def find_static_div(elements):\n",
    "    static_html = []\n",
    "    for element in elements:\n",
    "        try:\n",
    "            closet_div = element.find_parent('div')\n",
    "            html_code = str(closet_div) #DOM 형식을 문자열로 변환\n",
    "            print(f\"HTML Code: {html_code}\") #결과 출력\n",
    "            static_html.append(html_code) #결과 저장\n",
    "            \n",
    "        except NoSuchElementException:\n",
    "            print(\"가장 가까운 div 요소를 찾을 수 없습니다.\")\n",
    "            \n",
    "    return static_html"
   ]
  },
  {
   "cell_type": "code",
   "execution_count": 42,
   "id": "ad0a0cdd-59ac-405b-9679-4df46b18e6a8",
   "metadata": {},
   "outputs": [],
   "source": [
    "# 동적 페이지와 동일한 부분 가져오기(텍스트 기반 탐색)\n",
    "def search_false(dynamic_elements,url):\n",
    "    \n",
    "    print(\"Static URL open: \"+ url)\n",
    "    static_url = urlopen(url) #정적페이지\n",
    "    static_html = BeautifulSoup(static_url, \"html.parser\")  # BeautifulSoup으로 파싱\n",
    "    time.sleep(random.randrange(10,20)) #로딩되는데 걸리는 시간(10초 이상)\n",
    "    \n",
    "    dynamic = []\n",
    "    static = []\n",
    "    result = []\n",
    "    \n",
    "    for dynamic_element in dynamic_elements:\n",
    "        try:\n",
    "            # WebElement에서 텍스트 추출\n",
    "            dynamic_text = dynamic_element.text.strip()  # 텍스트를 추출하고 공백 제거\n",
    "            print(f\"{dynamic_element}에서 추출된 텍스트는 다음과 같습니다. --> {dynamic_text}\")\n",
    "\n",
    "            #추출한 텍스트가 공백인 경우 제외 -> div를 찾을 수 없는 경우 해당\n",
    "            if (dynamic_text == ''):\n",
    "                print(\"공백은 제외합니다!\")\n",
    "                continue\n",
    "\n",
    "            false_result = \"false\"\n",
    "            static_parent = None\n",
    "        \n",
    "            #정적 페이지의 텍스트 요소 전체와 동적 페이지 텍스트 비교해 일치하는 것 찾기\n",
    "            static_elements = static_html.find_all(string=lambda text: dynamic_text in text if text else False)\n",
    "            static_div = find_static_div(static_elements)\n",
    "         \n",
    "            if len(static_div)>0 :\n",
    "                static.append(static_div) #2차원 배열로 저장\n",
    "            \n",
    "            else:\n",
    "                static.append([]) #2차원 배열로 저장 -> dynamic에 일치하는 것이 없어도 순서를 위해 배열을 채움\n",
    "            \n",
    "        except StaleElementReferenceException:\n",
    "            print(\"Stale element reference encountered. Retrying...\")\n",
    "            continue\n",
    "        \n",
    "    return static"
   ]
  },
  {
   "cell_type": "code",
   "execution_count": 43,
   "id": "20aaed1a-988a-44d9-8ead-97b304299215",
   "metadata": {},
   "outputs": [],
   "source": [
    "#1차원 배열과 2차원 배열 알맞게 매칭 후 저장\n",
    "def data_frame(dynamic_html, static_html, css_code,keyword_matched):\n",
    "    data = []\n",
    "    for dynamic, statics, css, matched in zip(dynamic_html, static_html, css_code,keyword_matched): #두 배열을 병렬로 묶어 진행\n",
    "        if statics:\n",
    "            for static in statics: #statics은 1차원 배열\n",
    "                data.append({'Dynamic_HTML': dynamic, 'Static_HTML':static, 'CSS': css, 'Matched Keywords': matched})\n",
    "        else: #일치하는 문구가 없는 경우 공백 저장\n",
    "            data.append({'Dynamic_HTML': dynamic, 'Static_HTML':None, 'CSS': css, 'Matched Keywords': matched})\n",
    "            \n",
    "    return data"
   ]
  },
  {
   "cell_type": "markdown",
   "id": "7534bb5c-0541-41f3-b2ad-2675a4e12380",
   "metadata": {},
   "source": [
    "# Main"
   ]
  },
  {
   "cell_type": "code",
   "execution_count": 54,
   "id": "9b743006-dde9-40a0-9504-d7848b7bf45a",
   "metadata": {},
   "outputs": [],
   "source": [
    "# Chrome 옵션 설정\n",
    "chrome_options = Options()\n",
    "chrome_options.add_argument(\"Mozilla/5.0\")  # 원하는 User-Agent 문자열로 변경"
   ]
  },
  {
   "cell_type": "code",
   "execution_count": 55,
   "id": "d32b433b-0cd9-4ba9-a463-b8fb898e6777",
   "metadata": {},
   "outputs": [],
   "source": [
    "data = pd.read_csv('./data/false_test.csv')\n",
    "driver = webdriver.Chrome()\n",
    "\n",
    "# 결과 파일 존재 여부 확인\n",
    "output_file = \"./result/False_Check.csv\"\n",
    "file_exists = os.path.isfile(output_file)"
   ]
  },
  {
   "cell_type": "code",
   "execution_count": 56,
   "id": "d56dddf5-d3da-400c-8b2e-f9302014e9a9",
   "metadata": {},
   "outputs": [],
   "source": [
    "#keyword 정의\n",
    "user_alert = [\"보고있\", \"보는중\", \" 보고 있\", \"보는 중\"]\n",
    "stock_alert = [\"남음\", \"남았\", \"개 남음\"]\n",
    "\n",
    "keywords_dict = [user_alert, stock_alert]"
   ]
  },
  {
   "cell_type": "code",
   "execution_count": 57,
   "id": "86fa1732-a9cd-494f-bdb6-32372ff1860a",
   "metadata": {
    "scrolled": true
   },
   "outputs": [
    {
     "name": "stdout",
     "output_type": "stream",
     "text": [
      "Dynamic URL open : https://www.11st.co.kr/products/7615498870\n",
      "Static URL open: https://www.11st.co.kr/products/7615498870\n",
      "Dynamic URL open : https://www.11st.co.kr/products/7615498870\n",
      "Static URL open: https://www.11st.co.kr/products/7615498870\n",
      "Dynamic URL open : https://www.agoda.com/ko-kr/search?city=16527&locale=ko-kr&ckuid=cbe5b914-1610-41bd-ab4d-111db75912cd&prid=0&currency=KRW&correlationId=5e3ddd71-186f-4493-85f2-2bc2a95ae2ad&analyticsSessionId=4589510054972858855&pageTypeId=1&realLanguageId=9&languageId=9&origin=KR&stateCode=11&cid=1844104&userId=cbe5b914-1610-41bd-ab4d-111db75912cd&whitelabelid=1&loginLvl=0&storefrontId=3&currencyId=26&currencyCode=KRW&htmlLanguage=ko-kr&cultureInfoName=ko-kr&machineName=hk-pc-2i-acm-web-user-6599bbcc8d-h9k4g&trafficGroupId=1&trafficSubGroupId=84&aid=130589&useFullPageLogin=true&cttp=4&isRealUser=true&mode=production&browserFamily=Chrome&cdnDomain=agoda.net&checkIn=2024-10-21&checkOut=2024-10-25&rooms=1&adults=2&children=0&priceCur=KRW&los=4&textToSearch=%ED%9B%84%EC%BF%A0%EC%98%A4%EC%B9%B4&travellerType=1&familyMode=off&ds=l%2Bf9mEYMkCznDxnr&productType=-1\n"
     ]
    },
    {
     "ename": "NoSuchWindowException",
     "evalue": "Message: no such window: target window already closed\nfrom unknown error: web view not found\n  (Session info: chrome=129.0.6668.100)\nStacktrace:\n\tGetHandleVerifier [0x00007FF75B92B095+29557]\n\t(No symbol) [0x00007FF75B89FA50]\n\t(No symbol) [0x00007FF75B75B56A]\n\t(No symbol) [0x00007FF75B72FCC5]\n\t(No symbol) [0x00007FF75B7DEE07]\n\t(No symbol) [0x00007FF75B7F7E21]\n\t(No symbol) [0x00007FF75B7D6F33]\n\t(No symbol) [0x00007FF75B7A116F]\n\t(No symbol) [0x00007FF75B7A22D1]\n\tGetHandleVerifier [0x00007FF75BC5C96D+3378253]\n\tGetHandleVerifier [0x00007FF75BCA8497+3688311]\n\tGetHandleVerifier [0x00007FF75BC9D1CB+3642539]\n\tGetHandleVerifier [0x00007FF75B9EA6B6+813462]\n\t(No symbol) [0x00007FF75B8AAB5F]\n\t(No symbol) [0x00007FF75B8A6B74]\n\t(No symbol) [0x00007FF75B8A6D10]\n\t(No symbol) [0x00007FF75B895C1F]\n\tBaseThreadInitThunk [0x00007FF8766A7374+20]\n\tRtlUserThreadStart [0x00007FF87681CC91+33]\n",
     "output_type": "error",
     "traceback": [
      "\u001b[1;31m---------------------------------------------------------------------------\u001b[0m",
      "\u001b[1;31mNoSuchWindowException\u001b[0m                     Traceback (most recent call last)",
      "Cell \u001b[1;32mIn[57], line 3\u001b[0m\n\u001b[0;32m      1\u001b[0m \u001b[38;5;28;01mfor\u001b[39;00m url \u001b[38;5;129;01min\u001b[39;00m data[\u001b[38;5;124m'\u001b[39m\u001b[38;5;124mURL\u001b[39m\u001b[38;5;124m'\u001b[39m]:\n\u001b[0;32m      2\u001b[0m     \u001b[38;5;28;01mfor\u001b[39;00m keyword \u001b[38;5;129;01min\u001b[39;00m keywords_dict:\n\u001b[1;32m----> 3\u001b[0m         dynamic, css, matched, dynamic_elements \u001b[38;5;241m=\u001b[39m search_keyword(keyword,url, driver)\n\u001b[0;32m      4\u001b[0m         static \u001b[38;5;241m=\u001b[39m search_false(dynamic_elements, url)\n\u001b[0;32m      6\u001b[0m     \u001b[38;5;66;03m# 데이터 저장\u001b[39;00m\n",
      "Cell \u001b[1;32mIn[2], line 15\u001b[0m, in \u001b[0;36msearch_keyword\u001b[1;34m(keywords, url, driver)\u001b[0m\n\u001b[0;32m     13\u001b[0m xpath \u001b[38;5;241m=\u001b[39m \u001b[38;5;124mf\u001b[39m\u001b[38;5;124m\"\u001b[39m\u001b[38;5;124m//*[\u001b[39m\u001b[38;5;132;01m{\u001b[39;00mxpath_conditions\u001b[38;5;132;01m}\u001b[39;00m\u001b[38;5;124m]\u001b[39m\u001b[38;5;124m\"\u001b[39m\n\u001b[0;32m     14\u001b[0m \u001b[38;5;66;03m# 2.Selenium을 활용해 요소 찾기\u001b[39;00m\n\u001b[1;32m---> 15\u001b[0m dynamic_elements \u001b[38;5;241m=\u001b[39m driver\u001b[38;5;241m.\u001b[39mfind_elements(By\u001b[38;5;241m.\u001b[39mXPATH, xpath)\n\u001b[0;32m     16\u001b[0m driver\u001b[38;5;241m.\u001b[39mexecute_script(\u001b[38;5;124m\"\u001b[39m\u001b[38;5;124mwindow.scrollTo(0, 1000)\u001b[39m\u001b[38;5;124m\"\u001b[39m)\n\u001b[0;32m     18\u001b[0m \u001b[38;5;66;03m# 각 요소가 어떤 키워드를 포함하는지 확인하기 위한 리스트\u001b[39;00m\n",
      "File \u001b[1;32m~\\anaconda3\\Lib\\site-packages\\selenium\\webdriver\\remote\\webdriver.py:778\u001b[0m, in \u001b[0;36mWebDriver.find_elements\u001b[1;34m(self, by, value)\u001b[0m\n\u001b[0;32m    774\u001b[0m     value \u001b[38;5;241m=\u001b[39m \u001b[38;5;124mf\u001b[39m\u001b[38;5;124m'\u001b[39m\u001b[38;5;124m[name=\u001b[39m\u001b[38;5;124m\"\u001b[39m\u001b[38;5;132;01m{\u001b[39;00mvalue\u001b[38;5;132;01m}\u001b[39;00m\u001b[38;5;124m\"\u001b[39m\u001b[38;5;124m]\u001b[39m\u001b[38;5;124m'\u001b[39m\n\u001b[0;32m    776\u001b[0m \u001b[38;5;66;03m# Return empty list if driver returns null\u001b[39;00m\n\u001b[0;32m    777\u001b[0m \u001b[38;5;66;03m# See https://github.com/SeleniumHQ/selenium/issues/4555\u001b[39;00m\n\u001b[1;32m--> 778\u001b[0m \u001b[38;5;28;01mreturn\u001b[39;00m \u001b[38;5;28mself\u001b[39m\u001b[38;5;241m.\u001b[39mexecute(Command\u001b[38;5;241m.\u001b[39mFIND_ELEMENTS, {\u001b[38;5;124m\"\u001b[39m\u001b[38;5;124musing\u001b[39m\u001b[38;5;124m\"\u001b[39m: by, \u001b[38;5;124m\"\u001b[39m\u001b[38;5;124mvalue\u001b[39m\u001b[38;5;124m\"\u001b[39m: value})[\u001b[38;5;124m\"\u001b[39m\u001b[38;5;124mvalue\u001b[39m\u001b[38;5;124m\"\u001b[39m] \u001b[38;5;129;01mor\u001b[39;00m []\n",
      "File \u001b[1;32m~\\anaconda3\\Lib\\site-packages\\selenium\\webdriver\\remote\\webdriver.py:354\u001b[0m, in \u001b[0;36mWebDriver.execute\u001b[1;34m(self, driver_command, params)\u001b[0m\n\u001b[0;32m    352\u001b[0m response \u001b[38;5;241m=\u001b[39m \u001b[38;5;28mself\u001b[39m\u001b[38;5;241m.\u001b[39mcommand_executor\u001b[38;5;241m.\u001b[39mexecute(driver_command, params)\n\u001b[0;32m    353\u001b[0m \u001b[38;5;28;01mif\u001b[39;00m response:\n\u001b[1;32m--> 354\u001b[0m     \u001b[38;5;28mself\u001b[39m\u001b[38;5;241m.\u001b[39merror_handler\u001b[38;5;241m.\u001b[39mcheck_response(response)\n\u001b[0;32m    355\u001b[0m     response[\u001b[38;5;124m\"\u001b[39m\u001b[38;5;124mvalue\u001b[39m\u001b[38;5;124m\"\u001b[39m] \u001b[38;5;241m=\u001b[39m \u001b[38;5;28mself\u001b[39m\u001b[38;5;241m.\u001b[39m_unwrap_value(response\u001b[38;5;241m.\u001b[39mget(\u001b[38;5;124m\"\u001b[39m\u001b[38;5;124mvalue\u001b[39m\u001b[38;5;124m\"\u001b[39m, \u001b[38;5;28;01mNone\u001b[39;00m))\n\u001b[0;32m    356\u001b[0m     \u001b[38;5;28;01mreturn\u001b[39;00m response\n",
      "File \u001b[1;32m~\\anaconda3\\Lib\\site-packages\\selenium\\webdriver\\remote\\errorhandler.py:229\u001b[0m, in \u001b[0;36mErrorHandler.check_response\u001b[1;34m(self, response)\u001b[0m\n\u001b[0;32m    227\u001b[0m         alert_text \u001b[38;5;241m=\u001b[39m value[\u001b[38;5;124m\"\u001b[39m\u001b[38;5;124malert\u001b[39m\u001b[38;5;124m\"\u001b[39m]\u001b[38;5;241m.\u001b[39mget(\u001b[38;5;124m\"\u001b[39m\u001b[38;5;124mtext\u001b[39m\u001b[38;5;124m\"\u001b[39m)\n\u001b[0;32m    228\u001b[0m     \u001b[38;5;28;01mraise\u001b[39;00m exception_class(message, screen, stacktrace, alert_text)  \u001b[38;5;66;03m# type: ignore[call-arg]  # mypy is not smart enough here\u001b[39;00m\n\u001b[1;32m--> 229\u001b[0m \u001b[38;5;28;01mraise\u001b[39;00m exception_class(message, screen, stacktrace)\n",
      "\u001b[1;31mNoSuchWindowException\u001b[0m: Message: no such window: target window already closed\nfrom unknown error: web view not found\n  (Session info: chrome=129.0.6668.100)\nStacktrace:\n\tGetHandleVerifier [0x00007FF75B92B095+29557]\n\t(No symbol) [0x00007FF75B89FA50]\n\t(No symbol) [0x00007FF75B75B56A]\n\t(No symbol) [0x00007FF75B72FCC5]\n\t(No symbol) [0x00007FF75B7DEE07]\n\t(No symbol) [0x00007FF75B7F7E21]\n\t(No symbol) [0x00007FF75B7D6F33]\n\t(No symbol) [0x00007FF75B7A116F]\n\t(No symbol) [0x00007FF75B7A22D1]\n\tGetHandleVerifier [0x00007FF75BC5C96D+3378253]\n\tGetHandleVerifier [0x00007FF75BCA8497+3688311]\n\tGetHandleVerifier [0x00007FF75BC9D1CB+3642539]\n\tGetHandleVerifier [0x00007FF75B9EA6B6+813462]\n\t(No symbol) [0x00007FF75B8AAB5F]\n\t(No symbol) [0x00007FF75B8A6B74]\n\t(No symbol) [0x00007FF75B8A6D10]\n\t(No symbol) [0x00007FF75B895C1F]\n\tBaseThreadInitThunk [0x00007FF8766A7374+20]\n\tRtlUserThreadStart [0x00007FF87681CC91+33]\n"
     ]
    }
   ],
   "source": [
    "for url in data['URL']:\n",
    "    for keyword in keywords_dict:\n",
    "        dynamic, css, matched, dynamic_elements = search_keyword(keyword,url, driver)\n",
    "        static = search_false(dynamic_elements, url)\n",
    "\n",
    "    # 데이터 저장\n",
    "    data = data_frame(dynamic, static, css, matched)\n",
    "    df = pd.DataFrame(data)\n",
    "    \n",
    "    #처음 저장 시에만 헤더를 추가, 이후에는 헤더 제외\n",
    "    if not file_exists:\n",
    "        df.to_csv(output_file, index=False, mode='w', header=True, encoding='utf-8')  # 첫 번째 URL\n",
    "        file_exists = True  # 첫 번째 이후로는 헤더를 제외\n",
    "    else:\n",
    "        df.to_csv(output_file, index=False, mode='a', header=False, encoding='utf-8')  # 이후 URL"
   ]
  },
  {
   "cell_type": "code",
   "execution_count": 58,
   "id": "1c6f59d5-96b7-440c-a3ef-aecac97fe259",
   "metadata": {},
   "outputs": [],
   "source": [
    "driver.quit()"
   ]
  },
  {
   "cell_type": "code",
   "execution_count": null,
   "id": "cedd358e-e592-43d3-9654-5e711e86411a",
   "metadata": {},
   "outputs": [],
   "source": []
  }
 ],
 "metadata": {
  "kernelspec": {
   "display_name": "Python 3 (ipykernel)",
   "language": "python",
   "name": "python3"
  },
  "language_info": {
   "codemirror_mode": {
    "name": "ipython",
    "version": 3
   },
   "file_extension": ".py",
   "mimetype": "text/x-python",
   "name": "python",
   "nbconvert_exporter": "python",
   "pygments_lexer": "ipython3",
   "version": "3.11.7"
  }
 },
 "nbformat": 4,
 "nbformat_minor": 5
}
